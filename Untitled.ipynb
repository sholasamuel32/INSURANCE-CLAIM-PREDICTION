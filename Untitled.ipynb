{
 "cells": [
  {
   "cell_type": "markdown",
   "id": "93364b38-ca83-4853-97ca-3caede202006",
   "metadata": {},
   "source": [
    "## Load dependecies\n"
   ]
  },
  {
   "cell_type": "code",
   "execution_count": 171,
   "id": "3b8c5e4d-1c74-4a0f-a3b3-c22519edbb66",
   "metadata": {},
   "outputs": [],
   "source": [
    "import pandas as pd\n",
    "import numpy as np\n",
    "from sklearn.preprocessing import LabelEncoder\n",
    "from sklearn.model_selection import train_test_split"
   ]
  },
  {
   "cell_type": "code",
   "execution_count": 119,
   "id": "6449ad5e-f82d-48fb-9df0-d5fed2aa1b0b",
   "metadata": {},
   "outputs": [],
   "source": [
    "# Read the dataset\n",
    "df = pd.read_csv(\"train_data.csv\")"
   ]
  },
  {
   "cell_type": "code",
   "execution_count": 120,
   "id": "9d342182-8fe4-4b84-b688-564b4689d92a",
   "metadata": {},
   "outputs": [
    {
     "data": {
      "text/html": [
       "<div>\n",
       "<style scoped>\n",
       "    .dataframe tbody tr th:only-of-type {\n",
       "        vertical-align: middle;\n",
       "    }\n",
       "\n",
       "    .dataframe tbody tr th {\n",
       "        vertical-align: top;\n",
       "    }\n",
       "\n",
       "    .dataframe thead th {\n",
       "        text-align: right;\n",
       "    }\n",
       "</style>\n",
       "<table border=\"1\" class=\"dataframe\">\n",
       "  <thead>\n",
       "    <tr style=\"text-align: right;\">\n",
       "      <th></th>\n",
       "      <th>Customer Id</th>\n",
       "      <th>YearOfObservation</th>\n",
       "      <th>Insured_Period</th>\n",
       "      <th>Residential</th>\n",
       "      <th>Building_Painted</th>\n",
       "      <th>Building_Fenced</th>\n",
       "      <th>Garden</th>\n",
       "      <th>Settlement</th>\n",
       "      <th>Building Dimension</th>\n",
       "      <th>Building_Type</th>\n",
       "      <th>Date_of_Occupancy</th>\n",
       "      <th>NumberOfWindows</th>\n",
       "      <th>Geo_Code</th>\n",
       "      <th>Claim</th>\n",
       "    </tr>\n",
       "  </thead>\n",
       "  <tbody>\n",
       "    <tr>\n",
       "      <th>0</th>\n",
       "      <td>H14663</td>\n",
       "      <td>2013</td>\n",
       "      <td>1.000000</td>\n",
       "      <td>0</td>\n",
       "      <td>N</td>\n",
       "      <td>V</td>\n",
       "      <td>V</td>\n",
       "      <td>U</td>\n",
       "      <td>290.0</td>\n",
       "      <td>1</td>\n",
       "      <td>1960.0</td>\n",
       "      <td>.</td>\n",
       "      <td>1053</td>\n",
       "      <td>0</td>\n",
       "    </tr>\n",
       "    <tr>\n",
       "      <th>1</th>\n",
       "      <td>H2037</td>\n",
       "      <td>2015</td>\n",
       "      <td>1.000000</td>\n",
       "      <td>0</td>\n",
       "      <td>V</td>\n",
       "      <td>N</td>\n",
       "      <td>O</td>\n",
       "      <td>R</td>\n",
       "      <td>490.0</td>\n",
       "      <td>1</td>\n",
       "      <td>1850.0</td>\n",
       "      <td>4</td>\n",
       "      <td>1053</td>\n",
       "      <td>0</td>\n",
       "    </tr>\n",
       "    <tr>\n",
       "      <th>2</th>\n",
       "      <td>H3802</td>\n",
       "      <td>2014</td>\n",
       "      <td>1.000000</td>\n",
       "      <td>0</td>\n",
       "      <td>N</td>\n",
       "      <td>V</td>\n",
       "      <td>V</td>\n",
       "      <td>U</td>\n",
       "      <td>595.0</td>\n",
       "      <td>1</td>\n",
       "      <td>1960.0</td>\n",
       "      <td>.</td>\n",
       "      <td>1053</td>\n",
       "      <td>0</td>\n",
       "    </tr>\n",
       "    <tr>\n",
       "      <th>3</th>\n",
       "      <td>H3834</td>\n",
       "      <td>2013</td>\n",
       "      <td>1.000000</td>\n",
       "      <td>0</td>\n",
       "      <td>V</td>\n",
       "      <td>V</td>\n",
       "      <td>V</td>\n",
       "      <td>U</td>\n",
       "      <td>2840.0</td>\n",
       "      <td>1</td>\n",
       "      <td>1960.0</td>\n",
       "      <td>.</td>\n",
       "      <td>1053</td>\n",
       "      <td>0</td>\n",
       "    </tr>\n",
       "    <tr>\n",
       "      <th>4</th>\n",
       "      <td>H5053</td>\n",
       "      <td>2014</td>\n",
       "      <td>1.000000</td>\n",
       "      <td>0</td>\n",
       "      <td>V</td>\n",
       "      <td>N</td>\n",
       "      <td>O</td>\n",
       "      <td>R</td>\n",
       "      <td>680.0</td>\n",
       "      <td>1</td>\n",
       "      <td>1800.0</td>\n",
       "      <td>3</td>\n",
       "      <td>1053</td>\n",
       "      <td>0</td>\n",
       "    </tr>\n",
       "    <tr>\n",
       "      <th>...</th>\n",
       "      <td>...</td>\n",
       "      <td>...</td>\n",
       "      <td>...</td>\n",
       "      <td>...</td>\n",
       "      <td>...</td>\n",
       "      <td>...</td>\n",
       "      <td>...</td>\n",
       "      <td>...</td>\n",
       "      <td>...</td>\n",
       "      <td>...</td>\n",
       "      <td>...</td>\n",
       "      <td>...</td>\n",
       "      <td>...</td>\n",
       "      <td>...</td>\n",
       "    </tr>\n",
       "    <tr>\n",
       "      <th>7155</th>\n",
       "      <td>H5290</td>\n",
       "      <td>2012</td>\n",
       "      <td>1.000000</td>\n",
       "      <td>1</td>\n",
       "      <td>V</td>\n",
       "      <td>V</td>\n",
       "      <td>V</td>\n",
       "      <td>U</td>\n",
       "      <td>NaN</td>\n",
       "      <td>1</td>\n",
       "      <td>2001.0</td>\n",
       "      <td>.</td>\n",
       "      <td>NaN</td>\n",
       "      <td>0</td>\n",
       "    </tr>\n",
       "    <tr>\n",
       "      <th>7156</th>\n",
       "      <td>H5926</td>\n",
       "      <td>2013</td>\n",
       "      <td>1.000000</td>\n",
       "      <td>0</td>\n",
       "      <td>V</td>\n",
       "      <td>V</td>\n",
       "      <td>V</td>\n",
       "      <td>U</td>\n",
       "      <td>NaN</td>\n",
       "      <td>2</td>\n",
       "      <td>1980.0</td>\n",
       "      <td>.</td>\n",
       "      <td>NaN</td>\n",
       "      <td>1</td>\n",
       "    </tr>\n",
       "    <tr>\n",
       "      <th>7157</th>\n",
       "      <td>H6204</td>\n",
       "      <td>2016</td>\n",
       "      <td>0.038251</td>\n",
       "      <td>0</td>\n",
       "      <td>V</td>\n",
       "      <td>V</td>\n",
       "      <td>V</td>\n",
       "      <td>U</td>\n",
       "      <td>NaN</td>\n",
       "      <td>1</td>\n",
       "      <td>1992.0</td>\n",
       "      <td>.</td>\n",
       "      <td>NaN</td>\n",
       "      <td>0</td>\n",
       "    </tr>\n",
       "    <tr>\n",
       "      <th>7158</th>\n",
       "      <td>H6537</td>\n",
       "      <td>2013</td>\n",
       "      <td>1.000000</td>\n",
       "      <td>0</td>\n",
       "      <td>V</td>\n",
       "      <td>V</td>\n",
       "      <td>V</td>\n",
       "      <td>U</td>\n",
       "      <td>NaN</td>\n",
       "      <td>1</td>\n",
       "      <td>1972.0</td>\n",
       "      <td>.</td>\n",
       "      <td>NaN</td>\n",
       "      <td>0</td>\n",
       "    </tr>\n",
       "    <tr>\n",
       "      <th>7159</th>\n",
       "      <td>H7470</td>\n",
       "      <td>2014</td>\n",
       "      <td>1.000000</td>\n",
       "      <td>0</td>\n",
       "      <td>V</td>\n",
       "      <td>V</td>\n",
       "      <td>V</td>\n",
       "      <td>U</td>\n",
       "      <td>NaN</td>\n",
       "      <td>1</td>\n",
       "      <td>2004.0</td>\n",
       "      <td>.</td>\n",
       "      <td>NaN</td>\n",
       "      <td>0</td>\n",
       "    </tr>\n",
       "  </tbody>\n",
       "</table>\n",
       "<p>7160 rows × 14 columns</p>\n",
       "</div>"
      ],
      "text/plain": [
       "     Customer Id  YearOfObservation  Insured_Period  Residential  \\\n",
       "0         H14663               2013        1.000000            0   \n",
       "1          H2037               2015        1.000000            0   \n",
       "2          H3802               2014        1.000000            0   \n",
       "3          H3834               2013        1.000000            0   \n",
       "4          H5053               2014        1.000000            0   \n",
       "...          ...                ...             ...          ...   \n",
       "7155       H5290               2012        1.000000            1   \n",
       "7156       H5926               2013        1.000000            0   \n",
       "7157       H6204               2016        0.038251            0   \n",
       "7158       H6537               2013        1.000000            0   \n",
       "7159       H7470               2014        1.000000            0   \n",
       "\n",
       "     Building_Painted Building_Fenced Garden Settlement  Building Dimension  \\\n",
       "0                   N               V      V          U               290.0   \n",
       "1                   V               N      O          R               490.0   \n",
       "2                   N               V      V          U               595.0   \n",
       "3                   V               V      V          U              2840.0   \n",
       "4                   V               N      O          R               680.0   \n",
       "...               ...             ...    ...        ...                 ...   \n",
       "7155                V               V      V          U                 NaN   \n",
       "7156                V               V      V          U                 NaN   \n",
       "7157                V               V      V          U                 NaN   \n",
       "7158                V               V      V          U                 NaN   \n",
       "7159                V               V      V          U                 NaN   \n",
       "\n",
       "      Building_Type  Date_of_Occupancy NumberOfWindows Geo_Code  Claim  \n",
       "0                 1             1960.0               .     1053      0  \n",
       "1                 1             1850.0               4     1053      0  \n",
       "2                 1             1960.0               .     1053      0  \n",
       "3                 1             1960.0               .     1053      0  \n",
       "4                 1             1800.0               3     1053      0  \n",
       "...             ...                ...             ...      ...    ...  \n",
       "7155              1             2001.0               .      NaN      0  \n",
       "7156              2             1980.0               .      NaN      1  \n",
       "7157              1             1992.0               .      NaN      0  \n",
       "7158              1             1972.0               .      NaN      0  \n",
       "7159              1             2004.0               .      NaN      0  \n",
       "\n",
       "[7160 rows x 14 columns]"
      ]
     },
     "execution_count": 120,
     "metadata": {},
     "output_type": "execute_result"
    }
   ],
   "source": [
    "df"
   ]
  },
  {
   "cell_type": "code",
   "execution_count": 121,
   "id": "2e6a9e5c-d5ca-426b-af05-b837b85ac1ec",
   "metadata": {},
   "outputs": [
    {
     "name": "stdout",
     "output_type": "stream",
     "text": [
      "<class 'pandas.core.frame.DataFrame'>\n",
      "RangeIndex: 7160 entries, 0 to 7159\n",
      "Data columns (total 14 columns):\n",
      " #   Column              Non-Null Count  Dtype  \n",
      "---  ------              --------------  -----  \n",
      " 0   Customer Id         7160 non-null   object \n",
      " 1   YearOfObservation   7160 non-null   int64  \n",
      " 2   Insured_Period      7160 non-null   float64\n",
      " 3   Residential         7160 non-null   int64  \n",
      " 4   Building_Painted    7160 non-null   object \n",
      " 5   Building_Fenced     7160 non-null   object \n",
      " 6   Garden              7153 non-null   object \n",
      " 7   Settlement          7160 non-null   object \n",
      " 8   Building Dimension  7054 non-null   float64\n",
      " 9   Building_Type       7160 non-null   int64  \n",
      " 10  Date_of_Occupancy   6652 non-null   float64\n",
      " 11  NumberOfWindows     7160 non-null   object \n",
      " 12  Geo_Code            7058 non-null   object \n",
      " 13  Claim               7160 non-null   int64  \n",
      "dtypes: float64(3), int64(4), object(7)\n",
      "memory usage: 783.3+ KB\n"
     ]
    }
   ],
   "source": [
    "df.info()"
   ]
  },
  {
   "cell_type": "code",
   "execution_count": 122,
   "id": "e1859ec8-149a-4e62-89b5-d14ab2b04f77",
   "metadata": {},
   "outputs": [
    {
     "data": {
      "text/plain": [
       "Customer Id             0\n",
       "YearOfObservation       0\n",
       "Insured_Period          0\n",
       "Residential             0\n",
       "Building_Painted        0\n",
       "Building_Fenced         0\n",
       "Garden                  7\n",
       "Settlement              0\n",
       "Building Dimension    106\n",
       "Building_Type           0\n",
       "Date_of_Occupancy     508\n",
       "NumberOfWindows         0\n",
       "Geo_Code              102\n",
       "Claim                   0\n",
       "dtype: int64"
      ]
     },
     "execution_count": 122,
     "metadata": {},
     "output_type": "execute_result"
    }
   ],
   "source": [
    "df.isna().sum()"
   ]
  },
  {
   "cell_type": "code",
   "execution_count": 123,
   "id": "68d05983-068e-4b77-b4aa-94d9425e1f9e",
   "metadata": {},
   "outputs": [
    {
     "data": {
      "text/plain": [
       "Garden\n",
       "O    3602\n",
       "V    3551\n",
       "Name: count, dtype: int64"
      ]
     },
     "execution_count": 123,
     "metadata": {},
     "output_type": "execute_result"
    }
   ],
   "source": [
    "df.Garden.value_counts()"
   ]
  },
  {
   "cell_type": "code",
   "execution_count": 124,
   "id": "4fc15807-ae19-425e-8943-ea29cfc4f5de",
   "metadata": {},
   "outputs": [],
   "source": [
    "df.Garden = df.Garden.fillna(value='O')"
   ]
  },
  {
   "cell_type": "code",
   "execution_count": 125,
   "id": "55bf1ea8-811d-41c4-9029-2798f6e96129",
   "metadata": {},
   "outputs": [
    {
     "data": {
      "text/plain": [
       "nan"
      ]
     },
     "execution_count": 125,
     "metadata": {},
     "output_type": "execute_result"
    }
   ],
   "source": [
    "np.average(df[\"Building Dimension\"])"
   ]
  },
  {
   "cell_type": "code",
   "execution_count": 126,
   "id": "8765baee-125b-4fc1-8197-19721ded5479",
   "metadata": {},
   "outputs": [],
   "source": [
    "b_sum = np.sum(df[\"Building Dimension\"])"
   ]
  },
  {
   "cell_type": "code",
   "execution_count": 127,
   "id": "468aeb04-dfa7-4fe6-9f68-c6eb9331b520",
   "metadata": {},
   "outputs": [],
   "source": [
    "b_average = b_sum/7054"
   ]
  },
  {
   "cell_type": "code",
   "execution_count": 128,
   "id": "fcd3dad5-ba16-404f-ada6-958afa70c4ab",
   "metadata": {},
   "outputs": [
    {
     "data": {
      "text/plain": [
       "1883.7275304791608"
      ]
     },
     "execution_count": 128,
     "metadata": {},
     "output_type": "execute_result"
    }
   ],
   "source": [
    "b_average"
   ]
  },
  {
   "cell_type": "code",
   "execution_count": 129,
   "id": "7b8108a9-a40f-40bc-9eec-2709f902bb0e",
   "metadata": {},
   "outputs": [],
   "source": [
    "df[\"Building Dimension\"] = df[\"Building Dimension\"].fillna(value= b_average)"
   ]
  },
  {
   "cell_type": "code",
   "execution_count": 130,
   "id": "9ea7e1a6-2ddc-4a29-8c02-1a261742a267",
   "metadata": {},
   "outputs": [
    {
     "data": {
      "text/plain": [
       "nan"
      ]
     },
     "execution_count": 130,
     "metadata": {},
     "output_type": "execute_result"
    }
   ],
   "source": [
    "np.average(df[\"Date_of_Occupancy\"])"
   ]
  },
  {
   "cell_type": "code",
   "execution_count": 131,
   "id": "785460d0-d1d6-49fe-b286-e638c351e128",
   "metadata": {},
   "outputs": [],
   "source": [
    "d_sum =np.sum(df[\"Date_of_Occupancy\"])"
   ]
  },
  {
   "cell_type": "code",
   "execution_count": 132,
   "id": "38b1518e-5d12-4a37-8176-4163112be235",
   "metadata": {},
   "outputs": [],
   "source": [
    "d_average = d_sum/6652"
   ]
  },
  {
   "cell_type": "code",
   "execution_count": 133,
   "id": "67f0266e-e4d6-4cf4-a600-b9486c990c81",
   "metadata": {},
   "outputs": [
    {
     "data": {
      "text/plain": [
       "1964.456404088996"
      ]
     },
     "execution_count": 133,
     "metadata": {},
     "output_type": "execute_result"
    }
   ],
   "source": [
    "d_average"
   ]
  },
  {
   "cell_type": "code",
   "execution_count": 134,
   "id": "92dd8c3d-a0cd-4226-9e7a-af137db7803d",
   "metadata": {},
   "outputs": [],
   "source": [
    "df[\"Date_of_Occupancy\"] = df[\"Date_of_Occupancy\"].fillna(value= d_average)"
   ]
  },
  {
   "cell_type": "code",
   "execution_count": 135,
   "id": "6ebbf797-2b6e-417e-85b6-6e10b4f00b12",
   "metadata": {},
   "outputs": [
    {
     "data": {
      "text/plain": [
       "Geo_Code\n",
       "6088     143\n",
       "33063    137\n",
       "6083     113\n",
       "13206     98\n",
       "31555     87\n",
       "        ... \n",
       "59650      1\n",
       "59656      1\n",
       "60057      1\n",
       "60172      1\n",
       "2B353      1\n",
       "Name: count, Length: 1307, dtype: int64"
      ]
     },
     "execution_count": 135,
     "metadata": {},
     "output_type": "execute_result"
    }
   ],
   "source": [
    "df.Geo_Code.value_counts()"
   ]
  },
  {
   "cell_type": "code",
   "execution_count": 136,
   "id": "c86e8bf0-ebe1-468e-b453-c3f8c9db7698",
   "metadata": {},
   "outputs": [],
   "source": [
    "df.Geo_Code  =df.Geo_Code.fillna(value='6088')"
   ]
  },
  {
   "cell_type": "code",
   "execution_count": 137,
   "id": "53bff13f-686b-46d1-9d15-364304d383b6",
   "metadata": {},
   "outputs": [
    {
     "name": "stdout",
     "output_type": "stream",
     "text": [
      "<class 'pandas.core.frame.DataFrame'>\n",
      "RangeIndex: 7160 entries, 0 to 7159\n",
      "Data columns (total 14 columns):\n",
      " #   Column              Non-Null Count  Dtype  \n",
      "---  ------              --------------  -----  \n",
      " 0   Customer Id         7160 non-null   object \n",
      " 1   YearOfObservation   7160 non-null   int64  \n",
      " 2   Insured_Period      7160 non-null   float64\n",
      " 3   Residential         7160 non-null   int64  \n",
      " 4   Building_Painted    7160 non-null   object \n",
      " 5   Building_Fenced     7160 non-null   object \n",
      " 6   Garden              7160 non-null   object \n",
      " 7   Settlement          7160 non-null   object \n",
      " 8   Building Dimension  7160 non-null   float64\n",
      " 9   Building_Type       7160 non-null   int64  \n",
      " 10  Date_of_Occupancy   7160 non-null   float64\n",
      " 11  NumberOfWindows     7160 non-null   object \n",
      " 12  Geo_Code            7160 non-null   object \n",
      " 13  Claim               7160 non-null   int64  \n",
      "dtypes: float64(3), int64(4), object(7)\n",
      "memory usage: 783.3+ KB\n"
     ]
    }
   ],
   "source": [
    "df.info()"
   ]
  },
  {
   "cell_type": "code",
   "execution_count": 138,
   "id": "dbba7937-70dc-426a-917c-9770f25dd983",
   "metadata": {},
   "outputs": [],
   "source": [
    "label = LabelEncoder()"
   ]
  },
  {
   "cell_type": "code",
   "execution_count": 139,
   "id": "1b0e69ff-7880-4606-84d3-8a7bb7c5eab0",
   "metadata": {},
   "outputs": [],
   "source": [
    "df[\"Customer Id\"] = label.fit_transform(df[\"Customer Id\"])\n",
    "df[\"Building_Painted\"] = label.fit_transform(df[\"Building_Painted\"])\n",
    "df[\"Building_Fenced\"] = label.fit_transform(df[\"Building_Fenced\"])\n",
    "df[\"Garden\"] = label.fit_transform(df[\"Garden\"])\n",
    "df[\"Settlement\"] = label.fit_transform(df[\"Settlement\"])\n",
    "df[\"NumberOfWindows\"] = label.fit_transform(df[\"NumberOfWindows\"])\n",
    "df[\"Geo_Code\"] = label.fit_transform(df[\"Geo_Code\"])\n"
   ]
  },
  {
   "cell_type": "code",
   "execution_count": 140,
   "id": "e305eb03-c3c2-44f3-8610-3203218a6fac",
   "metadata": {},
   "outputs": [
    {
     "name": "stdout",
     "output_type": "stream",
     "text": [
      "<class 'pandas.core.frame.DataFrame'>\n",
      "RangeIndex: 7160 entries, 0 to 7159\n",
      "Data columns (total 14 columns):\n",
      " #   Column              Non-Null Count  Dtype  \n",
      "---  ------              --------------  -----  \n",
      " 0   Customer Id         7160 non-null   int64  \n",
      " 1   YearOfObservation   7160 non-null   int64  \n",
      " 2   Insured_Period      7160 non-null   float64\n",
      " 3   Residential         7160 non-null   int64  \n",
      " 4   Building_Painted    7160 non-null   int64  \n",
      " 5   Building_Fenced     7160 non-null   int64  \n",
      " 6   Garden              7160 non-null   int64  \n",
      " 7   Settlement          7160 non-null   int64  \n",
      " 8   Building Dimension  7160 non-null   float64\n",
      " 9   Building_Type       7160 non-null   int64  \n",
      " 10  Date_of_Occupancy   7160 non-null   float64\n",
      " 11  NumberOfWindows     7160 non-null   int64  \n",
      " 12  Geo_Code            7160 non-null   int64  \n",
      " 13  Claim               7160 non-null   int64  \n",
      "dtypes: float64(3), int64(11)\n",
      "memory usage: 783.3 KB\n"
     ]
    }
   ],
   "source": [
    "df.info()"
   ]
  },
  {
   "cell_type": "code",
   "execution_count": 141,
   "id": "3a5ddcec-6d7d-4be3-bf44-c1ba464d7274",
   "metadata": {},
   "outputs": [],
   "source": [
    "df.drop(\"Customer Id\", axis = 1, inplace= True)"
   ]
  },
  {
   "cell_type": "code",
   "execution_count": 142,
   "id": "59088ace-04c5-4628-8739-d6ff4a1c55f4",
   "metadata": {},
   "outputs": [
    {
     "data": {
      "text/html": [
       "<div>\n",
       "<style scoped>\n",
       "    .dataframe tbody tr th:only-of-type {\n",
       "        vertical-align: middle;\n",
       "    }\n",
       "\n",
       "    .dataframe tbody tr th {\n",
       "        vertical-align: top;\n",
       "    }\n",
       "\n",
       "    .dataframe thead th {\n",
       "        text-align: right;\n",
       "    }\n",
       "</style>\n",
       "<table border=\"1\" class=\"dataframe\">\n",
       "  <thead>\n",
       "    <tr style=\"text-align: right;\">\n",
       "      <th></th>\n",
       "      <th>YearOfObservation</th>\n",
       "      <th>Insured_Period</th>\n",
       "      <th>Residential</th>\n",
       "      <th>Building_Painted</th>\n",
       "      <th>Building_Fenced</th>\n",
       "      <th>Garden</th>\n",
       "      <th>Settlement</th>\n",
       "      <th>Building Dimension</th>\n",
       "      <th>Building_Type</th>\n",
       "      <th>Date_of_Occupancy</th>\n",
       "      <th>NumberOfWindows</th>\n",
       "      <th>Geo_Code</th>\n",
       "      <th>Claim</th>\n",
       "    </tr>\n",
       "  </thead>\n",
       "  <tbody>\n",
       "    <tr>\n",
       "      <th>0</th>\n",
       "      <td>2013</td>\n",
       "      <td>1.000000</td>\n",
       "      <td>0</td>\n",
       "      <td>0</td>\n",
       "      <td>1</td>\n",
       "      <td>1</td>\n",
       "      <td>1</td>\n",
       "      <td>290.00000</td>\n",
       "      <td>1</td>\n",
       "      <td>1960.0</td>\n",
       "      <td>0</td>\n",
       "      <td>7</td>\n",
       "      <td>0</td>\n",
       "    </tr>\n",
       "    <tr>\n",
       "      <th>1</th>\n",
       "      <td>2015</td>\n",
       "      <td>1.000000</td>\n",
       "      <td>0</td>\n",
       "      <td>1</td>\n",
       "      <td>0</td>\n",
       "      <td>0</td>\n",
       "      <td>0</td>\n",
       "      <td>490.00000</td>\n",
       "      <td>1</td>\n",
       "      <td>1850.0</td>\n",
       "      <td>4</td>\n",
       "      <td>7</td>\n",
       "      <td>0</td>\n",
       "    </tr>\n",
       "    <tr>\n",
       "      <th>2</th>\n",
       "      <td>2014</td>\n",
       "      <td>1.000000</td>\n",
       "      <td>0</td>\n",
       "      <td>0</td>\n",
       "      <td>1</td>\n",
       "      <td>1</td>\n",
       "      <td>1</td>\n",
       "      <td>595.00000</td>\n",
       "      <td>1</td>\n",
       "      <td>1960.0</td>\n",
       "      <td>0</td>\n",
       "      <td>7</td>\n",
       "      <td>0</td>\n",
       "    </tr>\n",
       "    <tr>\n",
       "      <th>3</th>\n",
       "      <td>2013</td>\n",
       "      <td>1.000000</td>\n",
       "      <td>0</td>\n",
       "      <td>1</td>\n",
       "      <td>1</td>\n",
       "      <td>1</td>\n",
       "      <td>1</td>\n",
       "      <td>2840.00000</td>\n",
       "      <td>1</td>\n",
       "      <td>1960.0</td>\n",
       "      <td>0</td>\n",
       "      <td>7</td>\n",
       "      <td>0</td>\n",
       "    </tr>\n",
       "    <tr>\n",
       "      <th>4</th>\n",
       "      <td>2014</td>\n",
       "      <td>1.000000</td>\n",
       "      <td>0</td>\n",
       "      <td>1</td>\n",
       "      <td>0</td>\n",
       "      <td>0</td>\n",
       "      <td>0</td>\n",
       "      <td>680.00000</td>\n",
       "      <td>1</td>\n",
       "      <td>1800.0</td>\n",
       "      <td>3</td>\n",
       "      <td>7</td>\n",
       "      <td>0</td>\n",
       "    </tr>\n",
       "    <tr>\n",
       "      <th>...</th>\n",
       "      <td>...</td>\n",
       "      <td>...</td>\n",
       "      <td>...</td>\n",
       "      <td>...</td>\n",
       "      <td>...</td>\n",
       "      <td>...</td>\n",
       "      <td>...</td>\n",
       "      <td>...</td>\n",
       "      <td>...</td>\n",
       "      <td>...</td>\n",
       "      <td>...</td>\n",
       "      <td>...</td>\n",
       "      <td>...</td>\n",
       "    </tr>\n",
       "    <tr>\n",
       "      <th>7155</th>\n",
       "      <td>2012</td>\n",
       "      <td>1.000000</td>\n",
       "      <td>1</td>\n",
       "      <td>1</td>\n",
       "      <td>1</td>\n",
       "      <td>1</td>\n",
       "      <td>1</td>\n",
       "      <td>1883.72753</td>\n",
       "      <td>1</td>\n",
       "      <td>2001.0</td>\n",
       "      <td>0</td>\n",
       "      <td>610</td>\n",
       "      <td>0</td>\n",
       "    </tr>\n",
       "    <tr>\n",
       "      <th>7156</th>\n",
       "      <td>2013</td>\n",
       "      <td>1.000000</td>\n",
       "      <td>0</td>\n",
       "      <td>1</td>\n",
       "      <td>1</td>\n",
       "      <td>1</td>\n",
       "      <td>1</td>\n",
       "      <td>1883.72753</td>\n",
       "      <td>2</td>\n",
       "      <td>1980.0</td>\n",
       "      <td>0</td>\n",
       "      <td>610</td>\n",
       "      <td>1</td>\n",
       "    </tr>\n",
       "    <tr>\n",
       "      <th>7157</th>\n",
       "      <td>2016</td>\n",
       "      <td>0.038251</td>\n",
       "      <td>0</td>\n",
       "      <td>1</td>\n",
       "      <td>1</td>\n",
       "      <td>1</td>\n",
       "      <td>1</td>\n",
       "      <td>1883.72753</td>\n",
       "      <td>1</td>\n",
       "      <td>1992.0</td>\n",
       "      <td>0</td>\n",
       "      <td>610</td>\n",
       "      <td>0</td>\n",
       "    </tr>\n",
       "    <tr>\n",
       "      <th>7158</th>\n",
       "      <td>2013</td>\n",
       "      <td>1.000000</td>\n",
       "      <td>0</td>\n",
       "      <td>1</td>\n",
       "      <td>1</td>\n",
       "      <td>1</td>\n",
       "      <td>1</td>\n",
       "      <td>1883.72753</td>\n",
       "      <td>1</td>\n",
       "      <td>1972.0</td>\n",
       "      <td>0</td>\n",
       "      <td>610</td>\n",
       "      <td>0</td>\n",
       "    </tr>\n",
       "    <tr>\n",
       "      <th>7159</th>\n",
       "      <td>2014</td>\n",
       "      <td>1.000000</td>\n",
       "      <td>0</td>\n",
       "      <td>1</td>\n",
       "      <td>1</td>\n",
       "      <td>1</td>\n",
       "      <td>1</td>\n",
       "      <td>1883.72753</td>\n",
       "      <td>1</td>\n",
       "      <td>2004.0</td>\n",
       "      <td>0</td>\n",
       "      <td>610</td>\n",
       "      <td>0</td>\n",
       "    </tr>\n",
       "  </tbody>\n",
       "</table>\n",
       "<p>7160 rows × 13 columns</p>\n",
       "</div>"
      ],
      "text/plain": [
       "      YearOfObservation  Insured_Period  Residential  Building_Painted  \\\n",
       "0                  2013        1.000000            0                 0   \n",
       "1                  2015        1.000000            0                 1   \n",
       "2                  2014        1.000000            0                 0   \n",
       "3                  2013        1.000000            0                 1   \n",
       "4                  2014        1.000000            0                 1   \n",
       "...                 ...             ...          ...               ...   \n",
       "7155               2012        1.000000            1                 1   \n",
       "7156               2013        1.000000            0                 1   \n",
       "7157               2016        0.038251            0                 1   \n",
       "7158               2013        1.000000            0                 1   \n",
       "7159               2014        1.000000            0                 1   \n",
       "\n",
       "      Building_Fenced  Garden  Settlement  Building Dimension  Building_Type  \\\n",
       "0                   1       1           1           290.00000              1   \n",
       "1                   0       0           0           490.00000              1   \n",
       "2                   1       1           1           595.00000              1   \n",
       "3                   1       1           1          2840.00000              1   \n",
       "4                   0       0           0           680.00000              1   \n",
       "...               ...     ...         ...                 ...            ...   \n",
       "7155                1       1           1          1883.72753              1   \n",
       "7156                1       1           1          1883.72753              2   \n",
       "7157                1       1           1          1883.72753              1   \n",
       "7158                1       1           1          1883.72753              1   \n",
       "7159                1       1           1          1883.72753              1   \n",
       "\n",
       "      Date_of_Occupancy  NumberOfWindows  Geo_Code  Claim  \n",
       "0                1960.0                0         7      0  \n",
       "1                1850.0                4         7      0  \n",
       "2                1960.0                0         7      0  \n",
       "3                1960.0                0         7      0  \n",
       "4                1800.0                3         7      0  \n",
       "...                 ...              ...       ...    ...  \n",
       "7155             2001.0                0       610      0  \n",
       "7156             1980.0                0       610      1  \n",
       "7157             1992.0                0       610      0  \n",
       "7158             1972.0                0       610      0  \n",
       "7159             2004.0                0       610      0  \n",
       "\n",
       "[7160 rows x 13 columns]"
      ]
     },
     "execution_count": 142,
     "metadata": {},
     "output_type": "execute_result"
    }
   ],
   "source": [
    "df"
   ]
  },
  {
   "cell_type": "code",
   "execution_count": 169,
   "id": "027807b4-72fc-4f99-981c-3bf172ea6fbc",
   "metadata": {},
   "outputs": [],
   "source": [
    "X = df.drop(\"Claim\", axis = 1)\n",
    "y = df.Claim"
   ]
  },
  {
   "cell_type": "code",
   "execution_count": 173,
   "id": "c78245fb-b0ab-4002-bb7d-a7b42ea04f65",
   "metadata": {},
   "outputs": [],
   "source": [
    "X_train, X_test, y_train, y_test = train_test_split(X,y, test_size=0.20, random_state=42)"
   ]
  },
  {
   "cell_type": "code",
   "execution_count": 175,
   "id": "21288b92-b041-4c67-8605-e0a410d248c7",
   "metadata": {},
   "outputs": [
    {
     "data": {
      "text/plain": [
       "(5728, 12)"
      ]
     },
     "execution_count": 175,
     "metadata": {},
     "output_type": "execute_result"
    }
   ],
   "source": [
    "X_train.shape"
   ]
  },
  {
   "cell_type": "code",
   "execution_count": 181,
   "id": "65fa126c-30fa-402f-bf68-6b5251e05f00",
   "metadata": {},
   "outputs": [],
   "source": [
    "from sklearn.linear_model import LogisticRegression\n",
    "from sklearn.metrics import accuracy_score, f1_score, recall_score, precision_score"
   ]
  },
  {
   "cell_type": "code",
   "execution_count": 183,
   "id": "c5b247c7-fa9f-4e52-b331-f5da88414c41",
   "metadata": {},
   "outputs": [],
   "source": [
    "log = LogisticRegression()"
   ]
  },
  {
   "cell_type": "code",
   "execution_count": 185,
   "id": "3868984d-19bc-4274-88af-7e5db9b7c8b2",
   "metadata": {},
   "outputs": [
    {
     "name": "stderr",
     "output_type": "stream",
     "text": [
      "/opt/anaconda3/lib/python3.12/site-packages/sklearn/linear_model/_logistic.py:469: ConvergenceWarning: lbfgs failed to converge (status=1):\n",
      "STOP: TOTAL NO. of ITERATIONS REACHED LIMIT.\n",
      "\n",
      "Increase the number of iterations (max_iter) or scale the data as shown in:\n",
      "    https://scikit-learn.org/stable/modules/preprocessing.html\n",
      "Please also refer to the documentation for alternative solver options:\n",
      "    https://scikit-learn.org/stable/modules/linear_model.html#logistic-regression\n",
      "  n_iter_i = _check_optimize_result(\n"
     ]
    }
   ],
   "source": [
    "model = log.fit(X_train, y_train)"
   ]
  },
  {
   "cell_type": "code",
   "execution_count": 211,
   "id": "2b3b0b37-2753-4efd-9960-c05b3989c582",
   "metadata": {},
   "outputs": [],
   "source": [
    "result = log.predict(X_test)"
   ]
  },
  {
   "cell_type": "code",
   "execution_count": 213,
   "id": "18236fe9-5cc2-42be-a917-4b8186ec756f",
   "metadata": {},
   "outputs": [
    {
     "data": {
      "text/plain": [
       "array([0, 0, 0, ..., 0, 0, 0])"
      ]
     },
     "execution_count": 213,
     "metadata": {},
     "output_type": "execute_result"
    }
   ],
   "source": [
    "result"
   ]
  },
  {
   "cell_type": "code",
   "execution_count": 215,
   "id": "ce75c560-2523-4682-a852-cbf71491c039",
   "metadata": {},
   "outputs": [
    {
     "data": {
      "text/plain": [
       "78.14245810055866"
      ]
     },
     "execution_count": 215,
     "metadata": {},
     "output_type": "execute_result"
    }
   ],
   "source": [
    "accuracy_score(result, y_test)*100"
   ]
  },
  {
   "cell_type": "code",
   "execution_count": 219,
   "id": "36e53072-9f42-4e6e-bb04-5a04d43f31bb",
   "metadata": {},
   "outputs": [
    {
     "data": {
      "text/html": [
       "<div>\n",
       "<style scoped>\n",
       "    .dataframe tbody tr th:only-of-type {\n",
       "        vertical-align: middle;\n",
       "    }\n",
       "\n",
       "    .dataframe tbody tr th {\n",
       "        vertical-align: top;\n",
       "    }\n",
       "\n",
       "    .dataframe thead th {\n",
       "        text-align: right;\n",
       "    }\n",
       "</style>\n",
       "<table border=\"1\" class=\"dataframe\">\n",
       "  <thead>\n",
       "    <tr style=\"text-align: right;\">\n",
       "      <th></th>\n",
       "      <th>Claim</th>\n",
       "    </tr>\n",
       "  </thead>\n",
       "  <tbody>\n",
       "    <tr>\n",
       "      <th>0</th>\n",
       "      <td>0</td>\n",
       "    </tr>\n",
       "    <tr>\n",
       "      <th>1</th>\n",
       "      <td>0</td>\n",
       "    </tr>\n",
       "    <tr>\n",
       "      <th>2</th>\n",
       "      <td>0</td>\n",
       "    </tr>\n",
       "    <tr>\n",
       "      <th>3</th>\n",
       "      <td>0</td>\n",
       "    </tr>\n",
       "    <tr>\n",
       "      <th>4</th>\n",
       "      <td>0</td>\n",
       "    </tr>\n",
       "    <tr>\n",
       "      <th>...</th>\n",
       "      <td>...</td>\n",
       "    </tr>\n",
       "    <tr>\n",
       "      <th>1427</th>\n",
       "      <td>0</td>\n",
       "    </tr>\n",
       "    <tr>\n",
       "      <th>1428</th>\n",
       "      <td>0</td>\n",
       "    </tr>\n",
       "    <tr>\n",
       "      <th>1429</th>\n",
       "      <td>0</td>\n",
       "    </tr>\n",
       "    <tr>\n",
       "      <th>1430</th>\n",
       "      <td>0</td>\n",
       "    </tr>\n",
       "    <tr>\n",
       "      <th>1431</th>\n",
       "      <td>0</td>\n",
       "    </tr>\n",
       "  </tbody>\n",
       "</table>\n",
       "<p>1432 rows × 1 columns</p>\n",
       "</div>"
      ],
      "text/plain": [
       "      Claim\n",
       "0         0\n",
       "1         0\n",
       "2         0\n",
       "3         0\n",
       "4         0\n",
       "...     ...\n",
       "1427      0\n",
       "1428      0\n",
       "1429      0\n",
       "1430      0\n",
       "1431      0\n",
       "\n",
       "[1432 rows x 1 columns]"
      ]
     },
     "execution_count": 219,
     "metadata": {},
     "output_type": "execute_result"
    }
   ],
   "source": [
    "pd.DataFrame(result, columns=[\"Claim\"])"
   ]
  },
  {
   "cell_type": "code",
   "execution_count": 226,
   "id": "4c1f5d1d-80ba-4902-be78-6dec801cf972",
   "metadata": {},
   "outputs": [],
   "source": [
    "import pickle\n",
    "filename =  \"Log Reg Building Insurance.sav\"\n",
    "pickle.dump(log, open(filename, 'wb')) "
   ]
  },
  {
   "cell_type": "code",
   "execution_count": null,
   "id": "e6431e2f-f48c-4eb8-9657-2aef56e7b80b",
   "metadata": {},
   "outputs": [],
   "source": []
  }
 ],
 "metadata": {
  "kernelspec": {
   "display_name": "Python 3 (ipykernel)",
   "language": "python",
   "name": "python3"
  },
  "language_info": {
   "codemirror_mode": {
    "name": "ipython",
    "version": 3
   },
   "file_extension": ".py",
   "mimetype": "text/x-python",
   "name": "python",
   "nbconvert_exporter": "python",
   "pygments_lexer": "ipython3",
   "version": "3.12.4"
  }
 },
 "nbformat": 4,
 "nbformat_minor": 5
}
